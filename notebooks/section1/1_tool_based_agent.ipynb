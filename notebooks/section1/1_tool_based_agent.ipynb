{
 "cells": [
  {
   "cell_type": "markdown",
   "id": "4759326d",
   "metadata": {},
   "source": [
    "# 🧠 AI Agents Course – Section 1\n",
    "## 📌 Notebook: Using an enhanced Agent with tools, using Google GenAI SDK\n",
    "\n",
    "---\n",
    "\n",
    "### 🚀 Objective:\n",
    "Show how adding a tool (function) allows an agent to compute reliably, overcoming LLM limitations.\n",
    "\n",
    "---\n",
    "\n",
    "_Hassan Tabbal • Introduction to AI Agents Development Training — All rights reserved_"
   ]
  },
  {
   "cell_type": "code",
   "execution_count": null,
   "id": "e77383da",
   "metadata": {},
   "outputs": [],
   "source": [
    "%pip install -U -q \"google-genai>=1.19.0\""
   ]
  },
  {
   "cell_type": "code",
   "execution_count": null,
   "id": "9b52ced9",
   "metadata": {},
   "outputs": [],
   "source": [
    "# If you are running this in Google Colab, you can set your Google API key as follows:\n",
    "# 1. Locate the icon that looks like a key in the left sidebar of your Colab notebook.\n",
    "# 2. Click on it to open the \"User Data\" section.\n",
    "# 3. Add a new key-value pair with the key as 'GOOGLE_API_KEY' and your actual Google API key as the value.\n",
    "# 4. Run this cell to retrieve the API key.\n",
    "# Note: Make sure to replace 'GOOGLE_API_KEY' with your actual API key.\n",
    "# from google.colab import userdata\n",
    "# GOOGLE_API_KEY = userdata.get('GOOGLE_API_KEY')\n",
    "# If you are using Github codespaces, add your API Key as a secret in your dev environment.\n",
    "\n",
    "# GOOGLE_API_KEY = \"YOUR_GOOGLE_API_KEY\"  # Replace with your actual Google API key if not set in Colab\n",
    "import os\n",
    "GOOGLE_API_KEY = os.getenv(\"GOOGLE_API_KEY\")"
   ]
  },
  {
   "cell_type": "code",
   "execution_count": null,
   "id": "e6569fa7",
   "metadata": {},
   "outputs": [],
   "source": [
    "from google import genai\n",
    "from google.genai import types\n",
    "\n",
    "client = genai.Client(api_key=GOOGLE_API_KEY)"
   ]
  },
  {
   "cell_type": "code",
   "execution_count": null,
   "id": "33ab3b62",
   "metadata": {},
   "outputs": [],
   "source": [
    "MODEL_ID=\"gemini-2.5-flash\""
   ]
  },
  {
   "cell_type": "markdown",
   "id": "de4040c3",
   "metadata": {},
   "source": [
    "Now Let's define a tool that the agent can use to determine today's date"
   ]
  },
  {
   "cell_type": "code",
   "execution_count": null,
   "id": "311ae62f",
   "metadata": {},
   "outputs": [],
   "source": [
    "def get_Date()->str:\n",
    "    \"\"\"Gets the current date and time.\n",
    "\n",
    "    Args:\n",
    "        No arguments.\n",
    "\n",
    "    Returns:\n",
    "        A string representint the current date and time.\n",
    "    \"\"\"\n",
    "    from datetime import datetime\n",
    "    return datetime.now().strftime(\"%Y-%m-%d %H:%M:%S\")"
   ]
  },
  {
   "cell_type": "markdown",
   "id": "e8c346ed",
   "metadata": {},
   "source": [
    "Now that the tool is defined, let's retry our example"
   ]
  },
  {
   "cell_type": "code",
   "execution_count": null,
   "id": "466d15fa",
   "metadata": {},
   "outputs": [],
   "source": [
    "from IPython.display import Markdown\n",
    "\n",
    "response = client.models.generate_content(\n",
    "    model=MODEL_ID,\n",
    "    contents=\"What's today's date? and what's the time? Also give it to me in Hijri calendar\",\n",
    "    config=types.GenerateContentConfig(\n",
    "        tools=[get_Date],\n",
    "    ),\n",
    ")\n",
    "\n",
    "\n",
    "Markdown(response.text)\n"
   ]
  },
  {
   "cell_type": "markdown",
   "id": "25666e64",
   "metadata": {},
   "source": [
    "Notice the difference between running the LLM without tools, and invoking it with tools to give external context. \n",
    "Tools not only adds context, it can be used to read data from databases or perform actions on external system. \n",
    "\n",
    "Let's continue by implementing the Get Weather tool. For this tool, we will use a free api key from https://www.weatherapi.com\n"
   ]
  },
  {
   "cell_type": "code",
   "execution_count": null,
   "id": "f273d901",
   "metadata": {},
   "outputs": [],
   "source": [
    "#WEATHER_API_KEY = \"\"  # Replace with your actual weather API key or make sure it's set in your environment\n",
    "\n",
    "WEATHER_API_KEY = os.getenv(\"WEATHER_API_KEY\")"
   ]
  },
  {
   "cell_type": "code",
   "execution_count": null,
   "id": "9f6926a9",
   "metadata": {},
   "outputs": [],
   "source": [
    "import json\n",
    "from datetime import datetime\n",
    "def get_weather(location: str,date:str) -> str:\n",
    "    \"\"\"Gets the weather for a given location on a particular date.\n",
    "\n",
    "    Args:\n",
    "        location (str): The location for which to get the weather.\n",
    "        date (str): The date for which to get the weather forecast in 'YYYY-MM-DD' format.\n",
    "\n",
    "    Returns:\n",
    "        A string representing the json dumps of the weather information as returned by the API.\n",
    "    \"\"\"\n",
    "    import requests\n",
    "    # if the date is today, we will get the current weather using the 'current' endpoint. \n",
    "    # if the date is in the future (14 days from now), we will get the forecast using the 'future' endpoint.\n",
    "    # if the date is in the past (up to 7 days in the past), we will get the historical weather using the 'history' endpoint.\n",
    "    # Currently, weather forecast is not available in the free tier of the API. \n",
    "    parsed_date = datetime.strptime(date, '%Y-%m-%d').date()\n",
    "    today_date = datetime.today().date()\n",
    "    print(f\"Parsed date: {parsed_date}, Today date: {today_date}\")\n",
    "    WEATHER_API_URL = \"https://api.weatherapi.com/v1/current.json\"\n",
    "    if parsed_date == today_date:  # Check if the date is today\n",
    "        WEATHER_API_URL = \"https://api.weatherapi.com/v1/current.json\"\n",
    "    elif parsed_date > today_date:  # Check if the date is in the future\n",
    "        WEATHER_API_URL = \"https://api.weatherapi.com/v1/future.json\"\n",
    "    else:  # The date is in the past\n",
    "        WEATHER_API_URL = \"https://api.weatherapi.com/v1/history.json\"\n",
    "    params = {\n",
    "        'key': WEATHER_API_KEY,\n",
    "        'q': location,\n",
    "        'dt': date,  # Use the date parameter for historical or future weather\n",
    "        'aqi': 'no'\n",
    "    }\n",
    "    print(f\"Requesting weather data for {location} on {date} from {WEATHER_API_URL} with params: {params}\")\n",
    "    response = requests.get(WEATHER_API_URL, params=params)\n",
    "    returnStr = \"\"\n",
    "    if response.status_code == 200:\n",
    "        data = response.json()\n",
    "        #return f\"The current weather in {location} is {data['current']['condition']['text']} with a temperature of {data['current']['temp_c']}°C.\"\n",
    "        returnStr =  json.dumps(data, indent=4)  # Return the JSON data as a formatted string\n",
    "    else:\n",
    "        returnStr =  \"Could not retrieve weather data.\"\n",
    "    \n",
    "    print(f\"Weather API Response: {returnStr}\")\n",
    "    return returnStr\n",
    "    "
   ]
  },
  {
   "cell_type": "code",
   "execution_count": null,
   "id": "e438faa3",
   "metadata": {},
   "outputs": [],
   "source": [
    "response = client.models.generate_content(\n",
    "    model=MODEL_ID,\n",
    "    contents=\"Get today's weather in Tripoli, Lebanon\",\n",
    "    config=types.GenerateContentConfig(\n",
    "        tools=[get_Date,get_weather],\n",
    "    ),\n",
    ")\n",
    "\n",
    "\n",
    "Markdown(response.text)"
   ]
  },
  {
   "cell_type": "markdown",
   "id": "989f01d3",
   "metadata": {},
   "source": [
    "*Exercise*\n",
    "\n",
    "Now it's your turn : Teach the LLM how to get accurate currency exchange rates using a free API key from https://freecurrencyapi.com/\n",
    "\n",
    "*Bonus Exercise* \n",
    "Teach the LLM how to convert date to Hijri\n"
   ]
  }
 ],
 "metadata": {
  "kernelspec": {
   "display_name": "Python 3",
   "language": "python",
   "name": "python3"
  },
  "language_info": {
   "codemirror_mode": {
    "name": "ipython",
    "version": 3
   },
   "file_extension": ".py",
   "mimetype": "text/x-python",
   "name": "python",
   "nbconvert_exporter": "python",
   "pygments_lexer": "ipython3",
   "version": "3.12.1"
  }
 },
 "nbformat": 4,
 "nbformat_minor": 5
}
