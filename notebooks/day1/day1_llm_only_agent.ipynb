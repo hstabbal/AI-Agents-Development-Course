{
 "cells": [
  {
   "cell_type": "markdown",
   "id": "7a928ea5",
   "metadata": {},
   "source": [
    "# 🧠 AI Agents Course – Day 1\n",
    "## 📌 Notebook: LLM-Only Agent (Limitations)\n",
    "\n",
    "---\n",
    "\n",
    "### 🚀 Objective:\n",
    "Show how a Large Language Model (LLM) fails to reliably handle mathematical operations when used without tools.\n",
    "\n",
    "---\n",
    "\n",
    "### 🧠 Concept:\n",
    "LLMs generate predictions based on language patterns, not actual computations. This leads to errors in arithmetic or logical tasks.\n",
    "\n",
    "---\n",
    "\n",
    "### 🔍 Example Prompt:\n",
    "```python\n",
    "from IPython.display import Markdown\n",
    "\n",
    "response = client.models.generate_content(\n",
    "    model=MODEL_ID,\n",
    "    contents=\"What is today's date?\"\n",
    ")\n",
    "\n",
    "Markdown(response.text)\n",
    "```\n",
    "Try also these questions :\n",
    " \n",
    "What is today's date?\n",
    "\n",
    "What’s 100 USD in EUR?\n",
    "\n",
    "What is the weather in Beirut, Lebanon?\n",
    "\n",
    "---\n",
    "\n",
    "### 🎯 Task:\n",
    "Try your own examples and verify results using a real calculator. Rerun the cell multiple times, notice that the result can change with every run!\n",
    "\n",
    "> 🔎 **Observation Prompt:**  \n",
    "What patterns of errors do you see?\n",
    "\n",
    "---\n",
    "\n",
    "_NavyBits • AI Agents Training — All rights reserved_"
   ]
  },
  {
   "cell_type": "code",
   "execution_count": 1,
   "id": "be1b873a",
   "metadata": {},
   "outputs": [
    {
     "name": "stdout",
     "output_type": "stream",
     "text": [
      "Note: you may need to restart the kernel to use updated packages.\n"
     ]
    }
   ],
   "source": [
    "%pip install -U -q \"google-genai>=1.19.0\""
   ]
  },
  {
   "cell_type": "code",
   "execution_count": 1,
   "id": "80ea937c",
   "metadata": {},
   "outputs": [],
   "source": [
    "# If you are running this in Google Colab, you can set your Google API key as follows:\n",
    "# 1. Locate the icon that looks like a key in the left sidebar of your Colab notebook.\n",
    "# 2. Click on it to open the \"User Data\" section.\n",
    "# 3. Add a new key-value pair with the key as 'GOOGLE_API_KEY' and your actual Google API key as the value.\n",
    "# 4. Run this cell to retrieve the API key.\n",
    "# Note: Make sure to replace 'GOOGLE_API_KEY' with your actual API key.\n",
    "# from google.colab import userdata\n",
    "# GOOGLE_API_KEY = userdata.get('GOOGLE_API_KEY')\n",
    "# GOOGLE_API_KEY = \"YOUR_GOOGLE_API_KEY\"  # Replace with your actual Google API key if not set in Colab\n",
    "\n",
    "import os\n",
    "GOOGLE_API_KEY = os.getenv(\"GOOGLE_API_KEY\")"
   ]
  },
  {
   "cell_type": "markdown",
   "id": "6335052a",
   "metadata": {},
   "source": [
    "Initialize SDK client with your API Key. The model is now set in each call."
   ]
  },
  {
   "cell_type": "code",
   "execution_count": 2,
   "id": "b4a15f34",
   "metadata": {},
   "outputs": [],
   "source": [
    "from google import genai\n",
    "from google.genai import types\n",
    "\n",
    "client = genai.Client(api_key=GOOGLE_API_KEY)"
   ]
  },
  {
   "cell_type": "markdown",
   "id": "cf6239f6",
   "metadata": {},
   "source": [
    "Select the model you want to use in this guide. You can either select one from the list or enter a model name manually. Keep in mind that some models, such as the 2.5 ones are thinking models and thus take slightly more time to respond. For more details, you can see thinking notebook to learn how to switch the thinking off.\n",
    "\n",
    "For a full overview of all Gemini models, check the [documentation](https://ai.google.dev/gemini-api/docs/models)."
   ]
  },
  {
   "cell_type": "code",
   "execution_count": 3,
   "id": "e38b6c7e",
   "metadata": {},
   "outputs": [],
   "source": [
    "MODEL_ID=\"gemini-2.5-flash\""
   ]
  },
  {
   "cell_type": "code",
   "execution_count": 4,
   "id": "a0f95206",
   "metadata": {},
   "outputs": [
    {
     "data": {
      "text/markdown": [
       "As of my last update, the exchange rate for 100 USD is approximately **92.60 EUR**.\n",
       "\n",
       "Please note that exchange rates fluctuate constantly throughout the day, so this is an estimate. For the most current rate, I recommend checking a reliable currency converter or your bank's current exchange rate."
      ],
      "text/plain": [
       "<IPython.core.display.Markdown object>"
      ]
     },
     "execution_count": 4,
     "metadata": {},
     "output_type": "execute_result"
    }
   ],
   "source": [
    "from IPython.display import Markdown\n",
    "\n",
    "response = client.models.generate_content(\n",
    "    model=MODEL_ID,\n",
    "    contents=\"What's 100 USD in EUR?\"\n",
    ")\n",
    "\n",
    "Markdown(response.text)"
   ]
  },
  {
   "cell_type": "code",
   "execution_count": 5,
   "id": "5d8721a4",
   "metadata": {},
   "outputs": [
    {
     "data": {
      "text/markdown": [
       "As of my current processing time:\n",
       "\n",
       "**Today's Gregorian Date:**\n",
       "June 11, 2024\n",
       "\n",
       "**Current Time:**\n",
       "The time is approximately **01:50 PM UTC** (Coordinated Universal Time).\n",
       "*Please note: Your local time will vary depending on your time zone.*\n",
       "\n",
       "**Hijri Calendar Date:**\n",
       "In the Hijri calendar, today's date is **Dhul-Hijjah 5, 1445 AH**.\n",
       "\n",
       "*Please note: The exact start of Hijri months can sometimes vary by a day or two depending on the actual sighting of the moon and local astronomical calculations.*"
      ],
      "text/plain": [
       "<IPython.core.display.Markdown object>"
      ]
     },
     "execution_count": 5,
     "metadata": {},
     "output_type": "execute_result"
    }
   ],
   "source": [
    "from IPython.display import Markdown\n",
    "\n",
    "response = client.models.generate_content(\n",
    "    model=MODEL_ID,\n",
    "    contents=\"What's today's date? and what's the time? Also give it to me in Hijri calendar\",\n",
    "    config=types.GenerateContentConfig(\n",
    "    ),\n",
    ")\n",
    "\n",
    "\n",
    "Markdown(response.text)\n"
   ]
  },
  {
   "cell_type": "code",
   "execution_count": 6,
   "id": "7f2121d7",
   "metadata": {},
   "outputs": [
    {
     "data": {
      "text/markdown": [
       "Here's the current weather for Tripoli, Lebanon, based on the latest available data:\n",
       "\n",
       "*   **Temperature:** Approximately 25-27°C (77-81°F)\n",
       "*   **Conditions:** Mostly Clear / Sunny\n",
       "*   **Humidity:** Around 60-70%\n",
       "*   **Wind:** Light breeze, generally from the West or Northwest.\n",
       "*   **UV Index:** High\n",
       "\n",
       "*(Please note: Weather conditions can change rapidly. For the most up-to-the-minute updates, I recommend checking a dedicated weather app or website.)*"
      ],
      "text/plain": [
       "<IPython.core.display.Markdown object>"
      ]
     },
     "execution_count": 6,
     "metadata": {},
     "output_type": "execute_result"
    }
   ],
   "source": [
    "from IPython.display import Markdown\n",
    "\n",
    "response = client.models.generate_content(\n",
    "    model=MODEL_ID,\n",
    "    contents=\"What's the current weather, for Tripoli, Lebanon?\",\n",
    "    config=types.GenerateContentConfig(\n",
    "    ),\n",
    ")\n",
    "\n",
    "\n",
    "Markdown(response.text)\n"
   ]
  }
 ],
 "metadata": {
  "kernelspec": {
   "display_name": "Python 3",
   "language": "python",
   "name": "python3"
  },
  "language_info": {
   "codemirror_mode": {
    "name": "ipython",
    "version": 3
   },
   "file_extension": ".py",
   "mimetype": "text/x-python",
   "name": "python",
   "nbconvert_exporter": "python",
   "pygments_lexer": "ipython3",
   "version": "3.12.1"
  }
 },
 "nbformat": 4,
 "nbformat_minor": 5
}
