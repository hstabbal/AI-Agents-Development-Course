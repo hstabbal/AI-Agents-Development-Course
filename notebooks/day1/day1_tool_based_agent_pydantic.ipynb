{
 "cells": [
  {
   "cell_type": "markdown",
   "id": "4759326d",
   "metadata": {},
   "source": [
    "# 🧠 AI Agents Course – Day 1\n",
    "## 📌 Notebook: Tool-Based Agent Using PydanticAI\n",
    "\n",
    "---\n",
    "\n",
    "### 🚀 Objective:\n",
    "Implement the same simple agent using PydanticAI\n",
    "---\n",
    "\n",
    "_Hassan Tabbal • Introduction to AI Agents Development Training — All rights reserved_"
   ]
  },
  {
   "cell_type": "code",
   "execution_count": null,
   "id": "e77383da",
   "metadata": {},
   "outputs": [],
   "source": [
    "%pip install pydantic-ai --quiet"
   ]
  },
  {
   "cell_type": "code",
   "execution_count": null,
   "id": "4407f4f4",
   "metadata": {},
   "outputs": [],
   "source": [
    "from pydantic_ai import Agent\n",
    "model = \"google-gla:gemini-2.5-flash\"\n",
    "agent = Agent(  \n",
    "    model,\n",
    "    system_prompt='',  \n",
    ")"
   ]
  },
  {
   "cell_type": "markdown",
   "id": "de4040c3",
   "metadata": {},
   "source": [
    "Now Let's define a tool that the agent can use to determine today's date"
   ]
  },
  {
   "cell_type": "code",
   "execution_count": null,
   "id": "311ae62f",
   "metadata": {},
   "outputs": [],
   "source": [
    "\n",
    "@agent.tool_plain\n",
    "def get_Date()->str:\n",
    "    \"\"\"Gets the current date and time.\n",
    "\n",
    "    Args:\n",
    "        No arguments.\n",
    "\n",
    "    Returns:\n",
    "        A string representint the current date and time.\n",
    "    \"\"\"\n",
    "    from datetime import datetime\n",
    "    return datetime.now().strftime(\"%Y-%m-%d %H:%M:%S\")"
   ]
  },
  {
   "cell_type": "markdown",
   "id": "e8c346ed",
   "metadata": {},
   "source": [
    "Now that the tool is defined, let's retry our example"
   ]
  },
  {
   "cell_type": "code",
   "execution_count": null,
   "id": "466d15fa",
   "metadata": {},
   "outputs": [],
   "source": [
    "from IPython.display import Markdown\n",
    "import nest_asyncio # needed to fix an error when running inside Jupyter notebook\n",
    "\n",
    "nest_asyncio.apply()\n",
    "\n",
    "result = agent.run_sync(\"What's today's date? and what's the time? Also give it to me in Hijri calendar\")  \n",
    "\n",
    "Markdown(result.output)\n"
   ]
  },
  {
   "cell_type": "markdown",
   "id": "25666e64",
   "metadata": {},
   "source": [
    "Notice the difference between running the LLM without tools, and invoking it with tools to give external context. \n",
    "Tools not only adds context, it can be used to read data from databases or perform actions on external system. \n",
    "\n",
    "Let's continue by implementing the Get Weather tool. For this tool, we will use a free api key from https://www.weatherapi.com\n"
   ]
  },
  {
   "cell_type": "code",
   "execution_count": null,
   "id": "f273d901",
   "metadata": {},
   "outputs": [],
   "source": [
    "#WEATHER_API_KEY = \"\"  # Replace with your actual weather API key or make sure it's set in your environment\n",
    "import os\n",
    "WEATHER_API_KEY = os.getenv(\"WEATHER_API_KEY\")"
   ]
  },
  {
   "cell_type": "code",
   "execution_count": null,
   "id": "9f6926a9",
   "metadata": {},
   "outputs": [],
   "source": [
    "import json\n",
    "from datetime import datetime\n",
    "@agent.tool_plain\n",
    "def get_weather(location: str,date:str) -> str:\n",
    "    \"\"\"Gets the weather for a given location on a particular date.\n",
    "\n",
    "    Args:\n",
    "        location (str): The location for which to get the weather.\n",
    "        date (str): The date for which to get the weather forecast in 'YYYY-MM-DD' format.\n",
    "\n",
    "    Returns:\n",
    "        A string representing the json dumps of the weather information as returned by the API.\n",
    "    \"\"\"\n",
    "    import requests\n",
    "    # if the date is today, we will get the current weather using the 'current' endpoint. \n",
    "    # if the date is in the future (14 days from now), we will get the forecast using the 'future' endpoint.\n",
    "    # if the date is in the past (up to 7 days in the past), we will get the historical weather using the 'history' endpoint.\n",
    "    # Currently, weather forecast is not available in the free tier of the API. \n",
    "    parsed_date = datetime.strptime(date, '%Y-%m-%d').date()\n",
    "    today_date = datetime.today().date()\n",
    "    print(f\"Parsed date: {parsed_date}, Today date: {today_date}\")\n",
    "    WEATHER_API_URL = \"https://api.weatherapi.com/v1/current.json\"\n",
    "    if parsed_date == today_date:  # Check if the date is today\n",
    "        WEATHER_API_URL = \"https://api.weatherapi.com/v1/current.json\"\n",
    "    elif parsed_date > today_date:  # Check if the date is in the future\n",
    "        WEATHER_API_URL = \"https://api.weatherapi.com/v1/future.json\"\n",
    "    else:  # The date is in the past\n",
    "        WEATHER_API_URL = \"https://api.weatherapi.com/v1/history.json\"\n",
    "    params = {\n",
    "        'key': WEATHER_API_KEY,\n",
    "        'q': location,\n",
    "        'dt': date,  # Use the date parameter for historical or future weather\n",
    "        'aqi': 'no'\n",
    "    }\n",
    "    print(f\"Requesting weather data for {location} on {date} from {WEATHER_API_URL} with params: {params}\")\n",
    "    response = requests.get(WEATHER_API_URL, params=params)\n",
    "    returnStr = \"\"\n",
    "    if response.status_code == 200:\n",
    "        data = response.json()\n",
    "        #return f\"The current weather in {location} is {data['current']['condition']['text']} with a temperature of {data['current']['temp_c']}°C.\"\n",
    "        returnStr =  json.dumps(data, indent=4)  # Return the JSON data as a formatted string\n",
    "    else:\n",
    "        returnStr =  \"Could not retrieve weather data.\"\n",
    "    \n",
    "    print(f\"Weather API Response: {returnStr}\")\n",
    "    return returnStr\n",
    "    "
   ]
  },
  {
   "cell_type": "code",
   "execution_count": null,
   "id": "e438faa3",
   "metadata": {},
   "outputs": [],
   "source": [
    "result = agent.run_sync(\"Get today's weather in Tripoli, Lebanon\")  \n",
    "\n",
    "\n",
    "Markdown(result.output)"
   ]
  },
  {
   "cell_type": "markdown",
   "id": "989f01d3",
   "metadata": {},
   "source": [
    "*Exercise*\n",
    "\n",
    "Now it's your turn : Teach the LLM how to get accurate currency exchange rates using a free API key from https://freecurrencyapi.com/\n",
    "\n",
    "*Bonus Exercise* \n",
    "Teach the LLM how to convert date to Hijri\n"
   ]
  }
 ],
 "metadata": {
  "kernelspec": {
   "display_name": "Python 3",
   "language": "python",
   "name": "python3"
  },
  "language_info": {
   "codemirror_mode": {
    "name": "ipython",
    "version": 3
   },
   "file_extension": ".py",
   "mimetype": "text/x-python",
   "name": "python",
   "nbconvert_exporter": "python",
   "pygments_lexer": "ipython3",
   "version": "3.12.1"
  }
 },
 "nbformat": 4,
 "nbformat_minor": 5
}
