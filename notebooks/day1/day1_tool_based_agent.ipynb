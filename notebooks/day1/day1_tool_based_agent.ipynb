{
 "cells": [
  {
   "cell_type": "markdown",
   "id": "4759326d",
   "metadata": {},
   "source": [
    "# 🧠 AI Agents Course – Day 1\n",
    "## 📌 Notebook: Tool-Based Agent (Calculator)\n",
    "### 👨‍💼 Powered by NavyBits\n",
    "\n",
    "---\n",
    "\n",
    "### 🚀 Objective:\n",
    "Show how adding a tool (function) allows an agent to compute reliably, overcoming LLM limitations.\n",
    "\n",
    "---\n",
    "\n",
    "### 📦 Setup (Run First)\n",
    "```python\n",
    "%pip install pydantic-ai --quiet\n",
    "```\n",
    "\n",
    "---\n",
    "\n",
    "### 🧰 Tool Function Example\n",
    "```python\n",
    "def calculate(expression: str) -> str:\n",
    "    try:\n",
    "        return str(eval(expression))\n",
    "    except Exception as e:\n",
    "        return f\"Error: {e}\"\n",
    "```\n",
    "\n",
    "---\n",
    "\n",
    "### 🤖 Simulated Agent Behavior\n",
    "```python\n",
    "user_input = \"What is (12345 * 6789) + 9876?\"\n",
    "if \"what is\" in user_input.lower():\n",
    "    expr = user_input.lower().replace(\"what is\", \"\").strip().rstrip(\"?\")\n",
    "    print(\"Agent Result:\", calculate(expr))\n",
    "```\n",
    "\n",
    "---\n",
    "\n",
    "### 🎯 Task:\n",
    "Change the expression and simulate the agent responding using the tool.\n",
    "\n",
    "---\n",
    "\n",
    "_NavyBits • AI Agents Training — All rights reserved_"
   ]
  },
  {
   "cell_type": "code",
   "execution_count": 1,
   "id": "e77383da",
   "metadata": {},
   "outputs": [
    {
     "name": "stdout",
     "output_type": "stream",
     "text": [
      "Note: you may need to restart the kernel to use updated packages.\n"
     ]
    }
   ],
   "source": [
    "%pip install -U -q \"google-genai>=1.19.0\""
   ]
  },
  {
   "cell_type": "code",
   "execution_count": 1,
   "id": "9b52ced9",
   "metadata": {},
   "outputs": [],
   "source": [
    "# If you are running this in Google Colab, you can set your Google API key as follows:\n",
    "# 1. Locate the icon that looks like a key in the left sidebar of your Colab notebook.\n",
    "# 2. Click on it to open the \"User Data\" section.\n",
    "# 3. Add a new key-value pair with the key as 'GOOGLE_API_KEY' and your actual Google API key as the value.\n",
    "# 4. Run this cell to retrieve the API key.\n",
    "# Note: Make sure to replace 'GOOGLE_API_KEY' with your actual API key.\n",
    "# from google.colab import userdata\n",
    "# GOOGLE_API_KEY = userdata.get('GOOGLE_API_KEY')\n",
    "# If you are using Github codespaces, add your API Key as a secret in your dev environment.\n",
    "\n",
    "# GOOGLE_API_KEY = \"YOUR_GOOGLE_API_KEY\"  # Replace with your actual Google API key if not set in Colab\n",
    "import os\n",
    "GOOGLE_API_KEY = os.getenv(\"GOOGLE_API_KEY\")"
   ]
  },
  {
   "cell_type": "code",
   "execution_count": 2,
   "id": "e6569fa7",
   "metadata": {},
   "outputs": [],
   "source": [
    "from google import genai\n",
    "from google.genai import types\n",
    "\n",
    "client = genai.Client(api_key=GOOGLE_API_KEY)"
   ]
  },
  {
   "cell_type": "code",
   "execution_count": 3,
   "id": "33ab3b62",
   "metadata": {},
   "outputs": [],
   "source": [
    "MODEL_ID=\"gemini-2.5-flash\""
   ]
  },
  {
   "cell_type": "markdown",
   "id": "de4040c3",
   "metadata": {},
   "source": [
    "Now Let's define a tool that the agent can use to determine today's date"
   ]
  },
  {
   "cell_type": "code",
   "execution_count": 4,
   "id": "311ae62f",
   "metadata": {},
   "outputs": [],
   "source": [
    "def get_Date()->str:\n",
    "    \"\"\"Gets the current date and time.\n",
    "\n",
    "    Args:\n",
    "        No arguments.\n",
    "\n",
    "    Returns:\n",
    "        A string representint the current date and time.\n",
    "    \"\"\"\n",
    "    from datetime import datetime\n",
    "    return datetime.now().strftime(\"%Y-%m-%d %H:%M:%S\")"
   ]
  },
  {
   "cell_type": "markdown",
   "id": "e8c346ed",
   "metadata": {},
   "source": [
    "Now that the tool is defined, let's retry our example"
   ]
  },
  {
   "cell_type": "code",
   "execution_count": 5,
   "id": "466d15fa",
   "metadata": {},
   "outputs": [
    {
     "data": {
      "text/markdown": [
       "Today's date is June 23, 2025, and the time is 05:57:10. I can't convert it to the Hijri calendar for you."
      ],
      "text/plain": [
       "<IPython.core.display.Markdown object>"
      ]
     },
     "execution_count": 5,
     "metadata": {},
     "output_type": "execute_result"
    }
   ],
   "source": [
    "from IPython.display import Markdown\n",
    "\n",
    "response = client.models.generate_content(\n",
    "    model=MODEL_ID,\n",
    "    contents=\"What's today's date? and what's the time? Also give it to me in Hijri calendar\",\n",
    "    config=types.GenerateContentConfig(\n",
    "        tools=[get_Date],\n",
    "    ),\n",
    ")\n",
    "\n",
    "\n",
    "Markdown(response.text)\n"
   ]
  },
  {
   "cell_type": "markdown",
   "id": "25666e64",
   "metadata": {},
   "source": [
    "Notice the difference between running the LLM without tools, and invoking it with tools to give external context. \n",
    "Tools not only adds context, it can be used to read data from databases or perform actions on external system. \n",
    "\n",
    "Let's continue by implementing the Get Weather tool. For this tool, we will use a free api key from https://www.weatherapi.com\n"
   ]
  },
  {
   "cell_type": "code",
   "execution_count": 6,
   "id": "f273d901",
   "metadata": {},
   "outputs": [],
   "source": [
    "#WEATHER_API_KEY = \"\"  # Replace with your actual weather API key or make sure it's set in your environment\n",
    "\n",
    "WEATHER_API_KEY = os.getenv(\"WEATHER_API_KEY\")"
   ]
  },
  {
   "cell_type": "code",
   "execution_count": 7,
   "id": "9f6926a9",
   "metadata": {},
   "outputs": [],
   "source": [
    "import json\n",
    "from datetime import datetime\n",
    "def get_weather(location: str,date:str) -> str:\n",
    "    \"\"\"Gets the weather for a given location on a particular date.\n",
    "\n",
    "    Args:\n",
    "        location (str): The location for which to get the weather.\n",
    "        date (str): The date for which to get the weather forecast in 'YYYY-MM-DD' format.\n",
    "\n",
    "    Returns:\n",
    "        A string representing the json dumps of the weather information as returned by the API.\n",
    "    \"\"\"\n",
    "    import requests\n",
    "    # if the date is today, we will get the current weather using the 'current' endpoint. \n",
    "    # if the date is in the future (14 days from now), we will get the forecast using the 'future' endpoint.\n",
    "    # if the date is in the past (up to 7 days in the past), we will get the historical weather using the 'history' endpoint.\n",
    "    # Currently, weather forecast is not available in the free tier of the API. \n",
    "    parsed_date = datetime.strptime(date, '%Y-%m-%d').date()\n",
    "    today_date = datetime.today().date()\n",
    "    print(f\"Parsed date: {parsed_date}, Today date: {today_date}\")\n",
    "    WEATHER_API_URL = \"https://api.weatherapi.com/v1/current.json\"\n",
    "    if parsed_date == today_date:  # Check if the date is today\n",
    "        WEATHER_API_URL = \"https://api.weatherapi.com/v1/current.json\"\n",
    "    elif parsed_date > today_date:  # Check if the date is in the future\n",
    "        WEATHER_API_URL = \"https://api.weatherapi.com/v1/future.json\"\n",
    "    else:  # The date is in the past\n",
    "        WEATHER_API_URL = \"https://api.weatherapi.com/v1/history.json\"\n",
    "    params = {\n",
    "        'key': WEATHER_API_KEY,\n",
    "        'q': location,\n",
    "        'dt': date,  # Use the date parameter for historical or future weather\n",
    "        'aqi': 'no'\n",
    "    }\n",
    "    print(f\"Requesting weather data for {location} on {date} from {WEATHER_API_URL} with params: {params}\")\n",
    "    response = requests.get(WEATHER_API_URL, params=params)\n",
    "    returnStr = \"\"\n",
    "    if response.status_code == 200:\n",
    "        data = response.json()\n",
    "        #return f\"The current weather in {location} is {data['current']['condition']['text']} with a temperature of {data['current']['temp_c']}°C.\"\n",
    "        returnStr =  json.dumps(data, indent=4)  # Return the JSON data as a formatted string\n",
    "    else:\n",
    "        returnStr =  \"Could not retrieve weather data.\"\n",
    "    \n",
    "    print(f\"Weather API Response: {returnStr}\")\n",
    "    return returnStr\n",
    "    "
   ]
  },
  {
   "cell_type": "code",
   "execution_count": 8,
   "id": "e438faa3",
   "metadata": {},
   "outputs": [
    {
     "name": "stdout",
     "output_type": "stream",
     "text": [
      "Parsed date: 2025-06-23, Today date: 2025-06-23\n",
      "Requesting weather data for Tripoli, Lebanon on 2025-06-23 from https://api.weatherapi.com/v1/current.json with params: {'key': '12c39d01bb954364915182022250806', 'q': 'Tripoli, Lebanon', 'dt': '2025-06-23', 'aqi': 'no'}\n",
      "Weather API Response: {\n",
      "    \"location\": {\n",
      "        \"name\": \"Tripoli\",\n",
      "        \"region\": \"Liban-Nord\",\n",
      "        \"country\": \"Lebanon\",\n",
      "        \"lat\": 34.4333,\n",
      "        \"lon\": 35.85,\n",
      "        \"tz_id\": \"Asia/Beirut\",\n",
      "        \"localtime_epoch\": 1750658280,\n",
      "        \"localtime\": \"2025-06-23 08:58\"\n",
      "    },\n",
      "    \"current\": {\n",
      "        \"last_updated_epoch\": 1750657500,\n",
      "        \"last_updated\": \"2025-06-23 08:45\",\n",
      "        \"temp_c\": 26.0,\n",
      "        \"temp_f\": 78.9,\n",
      "        \"is_day\": 1,\n",
      "        \"condition\": {\n",
      "            \"text\": \"Sunny\",\n",
      "            \"icon\": \"//cdn.weatherapi.com/weather/64x64/day/113.png\",\n",
      "            \"code\": 1000\n",
      "        },\n",
      "        \"wind_mph\": 7.4,\n",
      "        \"wind_kph\": 11.9,\n",
      "        \"wind_degree\": 242,\n",
      "        \"wind_dir\": \"WSW\",\n",
      "        \"pressure_mb\": 1009.0,\n",
      "        \"pressure_in\": 29.79,\n",
      "        \"precip_mm\": 0.0,\n",
      "        \"precip_in\": 0.0,\n",
      "        \"humidity\": 65,\n",
      "        \"cloud\": 0,\n",
      "        \"feelslike_c\": 27.5,\n",
      "        \"feelslike_f\": 81.5,\n",
      "        \"windchill_c\": 26.0,\n",
      "        \"windchill_f\": 78.9,\n",
      "        \"heatindex_c\": 27.5,\n",
      "        \"heatindex_f\": 81.5,\n",
      "        \"dewpoint_c\": 19.0,\n",
      "        \"dewpoint_f\": 66.2,\n",
      "        \"vis_km\": 10.0,\n",
      "        \"vis_miles\": 6.0,\n",
      "        \"uv\": 1.9,\n",
      "        \"gust_mph\": 8.5,\n",
      "        \"gust_kph\": 13.7\n",
      "    }\n",
      "}\n"
     ]
    },
    {
     "data": {
      "text/markdown": [
       "The weather in Tripoli, Lebanon today is Sunny with a temperature of 26.0°C, feeling like 27.5°C. The wind speed is 11.9 Kph and the humidity is 65%."
      ],
      "text/plain": [
       "<IPython.core.display.Markdown object>"
      ]
     },
     "execution_count": 8,
     "metadata": {},
     "output_type": "execute_result"
    }
   ],
   "source": [
    "response = client.models.generate_content(\n",
    "    model=MODEL_ID,\n",
    "    contents=\"Get today's weather in Tripoli, Lebanon\",\n",
    "    config=types.GenerateContentConfig(\n",
    "        tools=[get_Date,get_weather],\n",
    "    ),\n",
    ")\n",
    "\n",
    "\n",
    "Markdown(response.text)"
   ]
  },
  {
   "cell_type": "markdown",
   "id": "989f01d3",
   "metadata": {},
   "source": [
    "*Exercise*\n",
    "\n",
    "Now it's your turn : Teach the LLM how to get accurate currency exchange rates using a free API key from https://freecurrencyapi.com/\n",
    "\n",
    "*Bonus Exercise* \n",
    "Teach the LLM how to convert date to Hijri\n"
   ]
  }
 ],
 "metadata": {
  "kernelspec": {
   "display_name": "Python 3",
   "language": "python",
   "name": "python3"
  },
  "language_info": {
   "codemirror_mode": {
    "name": "ipython",
    "version": 3
   },
   "file_extension": ".py",
   "mimetype": "text/x-python",
   "name": "python",
   "nbconvert_exporter": "python",
   "pygments_lexer": "ipython3",
   "version": "3.12.1"
  }
 },
 "nbformat": 4,
 "nbformat_minor": 5
}
