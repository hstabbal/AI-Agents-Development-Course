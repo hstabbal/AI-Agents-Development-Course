{
 "cells": [
  {
   "cell_type": "markdown",
   "id": "6abe81e4",
   "metadata": {},
   "source": [
    "# 🧠 AI Agents Course – Day 2\n",
    "## 📌 Notebook: Prompting Experiments\n",
    "\n",
    "---\n",
    "\n",
    "### 🚀 Objective:\n",
    "Try and experiment with different prompting types and best practices\n",
    "\n",
    "--- \n",
    "###   Tasks: \n",
    "After trying those prompts, experiment in engineering a perfect prompt that can generate perfect Ad text for Abo Sobhi restaurant. \n",
    "\n",
    "Start from this basic prompt : Generate an Ad for Abo Sobhi Shawarma Sandwich \n",
    "\n",
    "Now think, how can you improve it? what shall be the system prompt and the dynamic user prompt?  \n",
    "\n",
    "---\n",
    "\n",
    "_Hassan Tabbal • Introduction to AI Agents Development Training — All rights reserved_"
   ]
  },
  {
   "cell_type": "code",
   "execution_count": null,
   "id": "dd814bfb",
   "metadata": {},
   "outputs": [],
   "source": [
    "from pydantic_ai import Agent,RunContext\n",
    "from textwrap import dedent # allows us to format string nicely in code, but remove unwanted white space before sending to LLM\n",
    "from IPython.display import Markdown\n",
    "import nest_asyncio # needed to fix an error when running inside Jupyter notebook\n",
    "nest_asyncio.apply()\n",
    "\n",
    "model = \"google-gla:gemini-2.5-flash\"\n",
    "agent = Agent(  \n",
    "    model,\n",
    "    system_prompt='',  \n",
    ")"
   ]
  },
  {
   "cell_type": "code",
   "execution_count": null,
   "id": "5d05db73",
   "metadata": {},
   "outputs": [],
   "source": [
    "result = agent.run_sync(\"Give me the nutritional needs for a healthy individual\")  \n",
    "\n",
    "Markdown(result.output)"
   ]
  },
  {
   "cell_type": "code",
   "execution_count": null,
   "id": "2bb50c4a",
   "metadata": {},
   "outputs": [],
   "source": [
    "result = agent.run_sync(dedent(\"\"\"\n",
    "You are a highly qualified nutritionist with expertise in therapeutic diets, \n",
    "                    nutrient interactions, and dietary requirements across different health conditions.\n",
    "Your recommendations are always backed by peer-reviewed research.\n",
    "Research nutritional needs for an individual with the following demographics:\n",
    " - Age: 22\n",
    " - Gender: Male\n",
    " - Height: 170 cm\n",
    " - Weight: 80 kg\n",
    " - Activity Level: light activity\n",
    " - Goals: Reach recommended optimal weight\n",
    "Provide detailed nutritional requirements including:\n",
    " 1. Caloric needs (basal and adjusted for activity)\n",
    " 2. Macronutrient distribution (proteins, carbs, fats)\n",
    " 3. Key micronutrients particularly important for this demographic\n",
    " 4. Hydration requirements\n",
    " 5. Meal timing and frequency recommendations\n",
    "\n",
    "                        \"\"\"))\n",
    "Markdown(result.output)"
   ]
  },
  {
   "cell_type": "markdown",
   "id": "5da28013",
   "metadata": {},
   "source": [
    "## SYSTEM Prompts\n",
    "So far, we didn't use a system prompt. \n",
    "\n",
    "When building Agents, the system prompt gives the identity to the Agent and the fixed part of the prompt, isolating it from the dynamic user input. \n",
    "\n",
    "Here is a rewrite of the example, but with a proper system prompt."
   ]
  },
  {
   "cell_type": "code",
   "execution_count": null,
   "id": "7055d14b",
   "metadata": {},
   "outputs": [],
   "source": [
    "system_prompt = dedent(\"\"\"\n",
    "You are a highly qualified nutritionist with expertise in therapeutic diets, \n",
    "                    nutrient interactions, and dietary requirements across different health conditions.\n",
    "Your recommendations are always backed by peer-reviewed research.\n",
    "Provide detailed nutritional requirements including:\n",
    " 1. Caloric needs (basal and adjusted for activity)\n",
    " 2. Macronutrient distribution (proteins, carbs, fats)\n",
    " 3. Key micronutrients particularly important for this demographic\n",
    " 4. Hydration requirements\n",
    " 5. Meal timing and frequency recommendations\n",
    "\"\"\")\n",
    "agent = Agent(  \n",
    "    model,\n",
    "    system_prompt=system_prompt,  \n",
    ")\n",
    "result = agent.run_sync(dedent(\"\"\"\n",
    "Research nutritional needs for an individual with the following demographics:\n",
    " - Age: 22\n",
    " - Gender: Male\n",
    " - Height: 170 cm\n",
    " - Weight: 80 kg\n",
    " - Activity Level: light activity\n",
    " - Goals: Reach recommended optimal weight\n",
    "\n",
    "                        \"\"\"))\n",
    "Markdown(result.output)"
   ]
  },
  {
   "cell_type": "markdown",
   "id": "05ae2e35",
   "metadata": {},
   "source": [
    "Your turn now, Let's say you want to build an Ad generator Agent that creates Ads suitable to post in a newspaper for a restaurant called Abo Sobhi. The Ad shall be about a new Shawarma Sandwich. \n",
    "\n",
    "Start with the basic prompt : Generate an Ad for Abo Sobhi Shawarma Sandwich"
   ]
  },
  {
   "cell_type": "code",
   "execution_count": null,
   "id": "14f8ac24",
   "metadata": {},
   "outputs": [],
   "source": [
    "system_prompt = dedent(\"\"\"\n",
    "\"\"\") # You have to write the proper system prompt to improve your agent\n",
    "agent = Agent(  \n",
    "    model,\n",
    "    system_prompt=system_prompt,  \n",
    ")\n",
    "result = agent.run_sync(dedent(\"\"\"\n",
    "Generate an Ad for Abo Sobhi Shawarma Sandwich\n",
    "\n",
    "                        \"\"\"))\n",
    "Markdown(result.output)"
   ]
  }
 ],
 "metadata": {
  "kernelspec": {
   "display_name": "Python 3",
   "language": "python",
   "name": "python3"
  },
  "language_info": {
   "codemirror_mode": {
    "name": "ipython",
    "version": 3
   },
   "file_extension": ".py",
   "mimetype": "text/x-python",
   "name": "python",
   "nbconvert_exporter": "python",
   "pygments_lexer": "ipython3",
   "version": "3.12.1"
  }
 },
 "nbformat": 4,
 "nbformat_minor": 5
}
