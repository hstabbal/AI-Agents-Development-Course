{
 "cells": [
  {
   "cell_type": "markdown",
   "id": "e0cdc6f9",
   "metadata": {},
   "source": [
    "# 🧠 AI Agents Course – Day 2\n",
    "## 📌 Notebook: Structured Output\n",
    "\n",
    "---\n",
    "\n",
    "### 🚀 Objective:\n",
    "Make the output of LLM parseable as JSON, predictable and stable for production usage. \n",
    "\n",
    "--- \n",
    "###   Tasks: \n",
    "Let's create a simple Ordering assistant agent that can take orders from customers.  \n",
    "\n",
    "---\n",
    "\n",
    "_Hassan Tabbal • Introduction to AI Agents Development Training — All rights reserved_"
   ]
  },
  {
   "cell_type": "code",
   "execution_count": null,
   "id": "72ed04e6",
   "metadata": {},
   "outputs": [],
   "source": [
    "from pydantic_ai import Agent,RunContext\n",
    "from pydantic import BaseModel\n",
    "from textwrap import dedent # allows us to format string nicely in code, but remove unwanted white space before sending to LLM\n",
    "from IPython.display import display_pretty\n",
    "import nest_asyncio # needed to fix an error when running inside Jupyter notebook\n",
    "nest_asyncio.apply()\n",
    "\n",
    "model = \"google-gla:gemini-2.5-flash\"\n"
   ]
  },
  {
   "cell_type": "code",
   "execution_count": null,
   "id": "058e9292",
   "metadata": {},
   "outputs": [],
   "source": [
    "from datetime import datetime\n",
    "from enum import Enum\n",
    "class Size(str,Enum):\n",
    "    small = \"Small\"\n",
    "    medium = \"Medium\"\n",
    "    large = \"Large\" \n",
    "    undefined = \"Undefined\"\n",
    "class OrderLine(BaseModel):\n",
    "    item:str\n",
    "    size:Size\n",
    "    qty:int\n",
    "\n",
    "\n",
    "class Order(BaseModel):\n",
    "    date:datetime\n",
    "    lines:list[OrderLine]\n",
    "    total:float\n",
    "    isValid:bool\n",
    "    status_text:str #describes the status of the order and any message that the LLM wants to pass back to user"
   ]
  },
  {
   "cell_type": "code",
   "execution_count": null,
   "id": "762839a7",
   "metadata": {},
   "outputs": [],
   "source": [
    "system_prompt = dedent(\"\"\"\"\n",
    "                       You are an expert customer support agent assisting customers in placing online orders.\n",
    "                       Our online store is called Jimmy's Pizza and we specialize in preparing delicious Pizzas and Italian Pasta. \n",
    "                       We also have side dishes and drinks. \n",
    "                       when parsing user's input, make sure you identify the item and its quantity. \n",
    "                       Example 1: \n",
    "                       Customer says : I want to order 3 vegetarian pizza and 2 Orange Juice with one garlic bread. \n",
    "                       Parsed order : \n",
    "                       vegetarian pizza : 3, Orange juice : 2, garlic bread : 1\n",
    "                       After parsing the order, you must validate it to make sure all items exist in our menu.\n",
    "                       Update the order after validation, indicating the validity of the order and your feedback in the status_text field.\n",
    "                       Always return the validated order. \n",
    "\n",
    "                       \"\"\")\n",
    "agent = Agent(  \n",
    "    model,\n",
    "    system_prompt=system_prompt,\n",
    "     output_type=Order \n",
    ")\n"
   ]
  },
  {
   "cell_type": "code",
   "execution_count": null,
   "id": "f5bb03a8",
   "metadata": {},
   "outputs": [],
   "source": [
    "@agent.tool_plain\n",
    "def get_Date()->str:\n",
    "    \"\"\"Gets the current date and time.\n",
    "\n",
    "    Args:\n",
    "        No arguments.\n",
    "\n",
    "    Returns:\n",
    "        A string representint the current date and time.\n",
    "    \"\"\"\n",
    "    from datetime import datetime\n",
    "    return datetime.now().strftime(\"%Y-%m-%d %H:%M:%S\")"
   ]
  },
  {
   "cell_type": "code",
   "execution_count": null,
   "id": "07ecf597",
   "metadata": {},
   "outputs": [],
   "source": [
    "@agent.tool_plain\n",
    "def validate_Order(order:Order)->bool :\n",
    "    \"\"\"Checks if the order is valid or not.\n",
    "\n",
    "    Args:\n",
    "        order : The order object that we want to check\n",
    "\n",
    "    Returns:\n",
    "        A bool value of True or False, True meaning the order is valid. \n",
    "    \"\"\"\n",
    "    items = [{\"item\":\"Vegetarian Pizza\",\"price\":20},{\"item\":\"Pepperoni Pizza\",\"price\":22},{\"item\":\"Penne Arabiata\",\"price\":15}]\n",
    "    isValid = False\n",
    "    for line in order.lines:\n",
    "        if any(item['item'].lower() == line.item.lower() for item in items) : \n",
    "            isValid = True\n",
    "\n",
    "\n",
    "    return isValid\n"
   ]
  },
  {
   "cell_type": "code",
   "execution_count": null,
   "id": "38294914",
   "metadata": {},
   "outputs": [],
   "source": [
    "result = agent.run_sync(\"I want 2 Penne Arabiata and 2 medium size vegetarian pizza and 1 Pepsi\")  \n",
    "display_pretty(result.output)"
   ]
  },
  {
   "cell_type": "markdown",
   "id": "18dc5d05",
   "metadata": {},
   "source": [
    "We can also convert the output to json"
   ]
  },
  {
   "cell_type": "code",
   "execution_count": null,
   "id": "9f976613",
   "metadata": {},
   "outputs": [],
   "source": [
    "import json\n",
    "result_json = result.output.model_dump_json(indent=4)\n",
    "print(result_json)"
   ]
  },
  {
   "cell_type": "markdown",
   "id": "72c1028a",
   "metadata": {},
   "source": [
    "Now check what happens if we provide an invalid order"
   ]
  },
  {
   "cell_type": "code",
   "execution_count": null,
   "id": "a0b08191",
   "metadata": {},
   "outputs": [],
   "source": [
    "invalid_order = agent.run_sync(\"I want 3 Tacos and 2 Orange Juice\")\n",
    "print(invalid_order.output.model_dump_json(indent=4))"
   ]
  }
 ],
 "metadata": {
  "kernelspec": {
   "display_name": "Python 3",
   "language": "python",
   "name": "python3"
  },
  "language_info": {
   "codemirror_mode": {
    "name": "ipython",
    "version": 3
   },
   "file_extension": ".py",
   "mimetype": "text/x-python",
   "name": "python",
   "nbconvert_exporter": "python",
   "pygments_lexer": "ipython3",
   "version": "3.12.1"
  }
 },
 "nbformat": 4,
 "nbformat_minor": 5
}
